{
 "cells": [
  {
   "cell_type": "code",
   "execution_count": 2,
   "id": "304345a2",
   "metadata": {},
   "outputs": [
    {
     "name": "stdout",
     "output_type": "stream",
     "text": [
      "enter the start num:0\n",
      "enter the end num:50\n",
      "1\n",
      "1\n",
      "2\n",
      "3\n",
      "5\n",
      "8\n",
      "13\n",
      "21\n",
      "34\n"
     ]
    }
   ],
   "source": [
    "#Write a program to get the Fibonacci series between 0 to 50.\n",
    "start = int(input(\"enter the start num:\"))\n",
    "end = int(input(\"enter the end num:\"))\n",
    "x,y = 0,1\n",
    "while y<end:\n",
    "    print(y)\n",
    "    x,y = y,x+y"
   ]
  },
  {
   "cell_type": "code",
   "execution_count": 3,
   "id": "200ca889",
   "metadata": {},
   "outputs": [
    {
     "name": "stdout",
     "output_type": "stream",
     "text": [
      "enter the word to reverse:EDYODA\n",
      "A D O Y D E "
     ]
    }
   ],
   "source": [
    "#Write a program that accepts a word from the user and reverse it.\n",
    "x = input(\"enter the word to reverse:\")\n",
    "for i in range(len(x)-1,-1,-1):\n",
    "    print(x[i],end=\" \")"
   ]
  },
  {
   "cell_type": "code",
   "execution_count": 4,
   "id": "9ca6e083",
   "metadata": {},
   "outputs": [
    {
     "name": "stdout",
     "output_type": "stream",
     "text": [
      "Enter the numbers: 123456789\n",
      "num of even: 4\n",
      "num of odd: 5\n"
     ]
    }
   ],
   "source": [
    "#Write a program to count the number of even and odd numbers from a series of numbers.\n",
    "n = int(input(\"Enter the numbers: \"))\n",
    "even_count=0\n",
    "odd_count=0\n",
    "while n>0:\n",
    "  if n%2==0:\n",
    "    even_count += 1\n",
    "    n = n//10\n",
    "  else:\n",
    "    odd_count += 1\n",
    "    n = n//10\n",
    "  \n",
    "print(\"num of even:\",even_count)\n",
    "print(\"num of odd:\",odd_count)"
   ]
  },
  {
   "cell_type": "code",
   "execution_count": null,
   "id": "a729ec8d",
   "metadata": {},
   "outputs": [],
   "source": []
  }
 ],
 "metadata": {
  "kernelspec": {
   "display_name": "Python 3 (ipykernel)",
   "language": "python",
   "name": "python3"
  },
  "language_info": {
   "codemirror_mode": {
    "name": "ipython",
    "version": 3
   },
   "file_extension": ".py",
   "mimetype": "text/x-python",
   "name": "python",
   "nbconvert_exporter": "python",
   "pygments_lexer": "ipython3",
   "version": "3.10.9"
  }
 },
 "nbformat": 4,
 "nbformat_minor": 5
}
